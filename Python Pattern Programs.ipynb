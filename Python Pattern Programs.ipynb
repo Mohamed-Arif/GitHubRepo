{
 "cells": [
  {
   "cell_type": "markdown",
   "id": "2c852371",
   "metadata": {},
   "source": [
    "## Programs to print number pattern"
   ]
  },
  {
   "cell_type": "code",
   "execution_count": 1,
   "id": "16345733",
   "metadata": {},
   "outputs": [
    {
     "name": "stdout",
     "output_type": "stream",
     "text": [
      "\n",
      "1 \n",
      "2 2 \n",
      "3 3 3 \n",
      "4 4 4 4 \n",
      "5 5 5 5 5 \n"
     ]
    }
   ],
   "source": [
    "rows = 6\n",
    "# if you want user to enter a number, uncomment the below line\n",
    "# rows = int(input('Enter the number of rows'))\n",
    "# outer loop\n",
    "for i in range(rows):\n",
    "    # nested loop\n",
    "    for j in range(i):\n",
    "        # display number\n",
    "        print(i, end=' ')\n",
    "    # new line after each row\n",
    "    print('')"
   ]
  },
  {
   "cell_type": "markdown",
   "id": "0752c97c",
   "metadata": {},
   "source": [
    "## Pyramid pattern of numbers"
   ]
  },
  {
   "cell_type": "code",
   "execution_count": 2,
   "id": "e84cb8e9",
   "metadata": {},
   "outputs": [
    {
     "name": "stdout",
     "output_type": "stream",
     "text": [
      "1 \n",
      "1 2 \n",
      "1 2 3 \n",
      "1 2 3 4 \n",
      "1 2 3 4 5 \n"
     ]
    }
   ],
   "source": [
    "rows = 5\n",
    "for i in range(1, rows + 1):\n",
    "    for j in range(1, i + 1):\n",
    "        print(j, end=' ')\n",
    "    print('')"
   ]
  },
  {
   "cell_type": "markdown",
   "id": "d581fcea",
   "metadata": {},
   "source": [
    "## Inverted pyramid pattern of numbers"
   ]
  },
  {
   "cell_type": "code",
   "execution_count": 3,
   "id": "27f6f9fc",
   "metadata": {},
   "outputs": [
    {
     "name": "stdout",
     "output_type": "stream",
     "text": [
      "1 1 1 1 1 \r\n",
      "2 2 2 2 \r\n",
      "3 3 3 \r\n",
      "4 4 \r\n",
      "5 \r\n"
     ]
    }
   ],
   "source": [
    "rows = 5\n",
    "b = 0\n",
    "# reverse for loop from 5 to 0\n",
    "for i in range(rows, 0, -1):\n",
    "    b += 1\n",
    "    for j in range(1, i + 1):\n",
    "        print(b, end=' ')\n",
    "    print('\\r')"
   ]
  },
  {
   "cell_type": "markdown",
   "id": "bc073e34",
   "metadata": {},
   "source": [
    "## Inverted Pyramid pattern with the same digit"
   ]
  },
  {
   "cell_type": "code",
   "execution_count": 4,
   "id": "573f3aeb",
   "metadata": {},
   "outputs": [
    {
     "name": "stdout",
     "output_type": "stream",
     "text": [
      "5 5 5 5 5 \r\n",
      "5 5 5 5 \r\n",
      "5 5 5 \r\n",
      "5 5 \r\n",
      "5 \r\n"
     ]
    }
   ],
   "source": [
    "rows = 5\n",
    "num = rows\n",
    "# reverse for loop\n",
    "for i in range(rows, 0, -1):\n",
    "    for j in range(0, i):\n",
    "        print(num, end=' ')\n",
    "    print(\"\\r\")"
   ]
  },
  {
   "cell_type": "markdown",
   "id": "f6b20ea4",
   "metadata": {},
   "source": [
    "## Another inverted half pyramid pattern with number"
   ]
  },
  {
   "cell_type": "code",
   "execution_count": 5,
   "id": "be6d30b0",
   "metadata": {},
   "outputs": [
    {
     "name": "stdout",
     "output_type": "stream",
     "text": [
      "0 1 2 3 4 5 \r\n",
      "0 1 2 3 4 \r\n",
      "0 1 2 3 \r\n",
      "0 1 2 \r\n",
      "0 1 \r\n"
     ]
    }
   ],
   "source": [
    "rows = 5\n",
    "for i in range(rows, 0, -1):\n",
    "    for j in range(0, i + 1):\n",
    "        print(j, end=' ')\n",
    "    print(\"\\r\")"
   ]
  },
  {
   "cell_type": "markdown",
   "id": "e381afe5",
   "metadata": {},
   "source": [
    "## Alternate numbers pattern using while loop"
   ]
  },
  {
   "cell_type": "code",
   "execution_count": 6,
   "id": "f72ecd7f",
   "metadata": {},
   "outputs": [
    {
     "name": "stdout",
     "output_type": "stream",
     "text": [
      "1 \n",
      "3 3 \n",
      "5 5 5 \n",
      "7 7 7 7 \n",
      "9 9 9 9 9 \n"
     ]
    }
   ],
   "source": [
    "rows = 5\n",
    "i = 1\n",
    "while i <= rows:\n",
    "    j = 1\n",
    "    while j <= i:\n",
    "        print((i * 2 - 1), end=\" \")\n",
    "        j = j + 1\n",
    "    i = i + 1\n",
    "    print('')"
   ]
  },
  {
   "cell_type": "markdown",
   "id": "33aaf65a",
   "metadata": {},
   "source": [
    "## Reverse number pattern"
   ]
  },
  {
   "cell_type": "markdown",
   "id": "48571eb1",
   "metadata": {},
   "source": [
    "#### Pattern 1: –"
   ]
  },
  {
   "cell_type": "code",
   "execution_count": 7,
   "id": "05bfad8d",
   "metadata": {},
   "outputs": [
    {
     "name": "stdout",
     "output_type": "stream",
     "text": [
      "5 5 5 5 5 \r\n",
      "4 4 4 4 \r\n",
      "3 3 3 \r\n",
      "2 2 \r\n",
      "1 \r\n"
     ]
    }
   ],
   "source": [
    "rows = 5\n",
    "# reverse loop\n",
    "for i in range(rows, 0, -1):\n",
    "    num = i\n",
    "    for j in range(0, i):\n",
    "        print(num, end=' ')\n",
    "    print(\"\\r\")"
   ]
  },
  {
   "cell_type": "markdown",
   "id": "bc753e8c",
   "metadata": {},
   "source": [
    "## Reverse Pyramid of Numbers"
   ]
  },
  {
   "cell_type": "markdown",
   "id": "08ad53bc",
   "metadata": {},
   "source": [
    "### Pattern 2: –"
   ]
  },
  {
   "cell_type": "code",
   "execution_count": 8,
   "id": "021f1b76",
   "metadata": {},
   "outputs": [
    {
     "name": "stdout",
     "output_type": "stream",
     "text": [
      "1 \n",
      "2 1 \n",
      "3 2 1 \n",
      "4 3 2 1 \n",
      "5 4 3 2 1 \n"
     ]
    }
   ],
   "source": [
    "rows = 6\n",
    "for i in range(1, rows):\n",
    "    for j in range(i, 0, -1):\n",
    "        print(j, end=' ')\n",
    "    print(\"\")"
   ]
  },
  {
   "cell_type": "markdown",
   "id": "89e8287e",
   "metadata": {},
   "source": [
    "## Another reverse number pattern"
   ]
  },
  {
   "cell_type": "code",
   "execution_count": 9,
   "id": "8e8f8a37",
   "metadata": {},
   "outputs": [
    {
     "name": "stdout",
     "output_type": "stream",
     "text": [
      "5 4 3 2 1 \n",
      "4 3 2 1 \n",
      "3 2 1 \n",
      "2 1 \n",
      "1 \n",
      "\n"
     ]
    }
   ],
   "source": [
    "rows = 5\n",
    "for i in range(0, rows + 1):\n",
    "    for j in range(rows - i, 0, -1):\n",
    "        print(j, end=' ')\n",
    "    print()"
   ]
  },
  {
   "cell_type": "markdown",
   "id": "fdafc387",
   "metadata": {},
   "source": [
    "## Print reverse number from 10 to 1"
   ]
  },
  {
   "cell_type": "code",
   "execution_count": 10,
   "id": "4e299000",
   "metadata": {},
   "outputs": [
    {
     "name": "stdout",
     "output_type": "stream",
     "text": [
      "1 \n",
      "3 2 \n",
      "6 5 4 \n",
      "10 9 8 7 \n"
     ]
    }
   ],
   "source": [
    "start = 1\n",
    "stop = 2\n",
    "current_num = stop\n",
    "for row in range(2, 6):\n",
    "    for col in range(start, stop):\n",
    "        current_num -= 1\n",
    "        print(current_num, end=' ')\n",
    "    print(\"\")\n",
    "    start = stop\n",
    "    stop += row\n",
    "    current_num = stop"
   ]
  },
  {
   "cell_type": "markdown",
   "id": "5d35dc1d",
   "metadata": {},
   "source": [
    "## Number triangle pattern"
   ]
  },
  {
   "cell_type": "code",
   "execution_count": 11,
   "id": "e5e31b25",
   "metadata": {},
   "outputs": [
    {
     "name": "stdout",
     "output_type": "stream",
     "text": [
      "          1 \n",
      "        1 2 \n",
      "      1 2 3 \n",
      "    1 2 3 4 \n",
      "  1 2 3 4 5 \n"
     ]
    }
   ],
   "source": [
    "rows = 6\n",
    "for i in range(1, rows):\n",
    "    num = 1\n",
    "    for j in range(rows, 0, -1):\n",
    "        if j > i:\n",
    "            print(\" \", end=' ')\n",
    "        else:\n",
    "            print(num, end=' ')\n",
    "            num += 1\n",
    "    print(\"\")"
   ]
  },
  {
   "cell_type": "markdown",
   "id": "c2deac0c",
   "metadata": {},
   "source": [
    "## Pascal’s triangle pattern using numbers"
   ]
  },
  {
   "cell_type": "code",
   "execution_count": 12,
   "id": "84408875",
   "metadata": {},
   "outputs": [
    {
     "name": "stdout",
     "output_type": "stream",
     "text": [
      "1 \n",
      "1 1 \n",
      "1 2 1 \n",
      "1 3 3 1 \n",
      "1 4 6 4 1 \n",
      "1 5 10 10 5 1 \n",
      "1 6 15 20 15 6 1 \n"
     ]
    }
   ],
   "source": [
    "def print_pascal_triangle(size):\n",
    "    for i in range(0, size):\n",
    "        for j in range(0, i + 1):\n",
    "            print(decide_number(i, j), end=\" \")\n",
    "        print()\n",
    "\n",
    "\n",
    "def decide_number(n, k):\n",
    "    num = 1\n",
    "    if k > n - k:\n",
    "        k = n - k\n",
    "    for i in range(0, k):\n",
    "        num = num * (n - i)\n",
    "        num = num // (i + 1)\n",
    "    return num\n",
    "\n",
    "# set rows\n",
    "rows = 7\n",
    "print_pascal_triangle(rows)"
   ]
  },
  {
   "cell_type": "markdown",
   "id": "8fd370bd",
   "metadata": {},
   "source": [
    "## Square pattern with numbers"
   ]
  },
  {
   "cell_type": "code",
   "execution_count": 13,
   "id": "b933c358",
   "metadata": {},
   "outputs": [
    {
     "name": "stdout",
     "output_type": "stream",
     "text": [
      "1 2 3 4 5 \n",
      "2 2 3 4 5 \n",
      "3 3 3 4 5 \n",
      "4 4 4 4 5 \n",
      "5 5 5 5 5 \n"
     ]
    }
   ],
   "source": [
    "rows = 5\n",
    "for i in range(1, rows + 1):\n",
    "    for j in range(1, rows + 1):\n",
    "        if j <= i:\n",
    "            print(i, end=' ')\n",
    "        else:\n",
    "            print(j, end=' ')\n",
    "    print()"
   ]
  },
  {
   "cell_type": "markdown",
   "id": "751340c9",
   "metadata": {},
   "source": [
    "## Multiplication table pattern"
   ]
  },
  {
   "cell_type": "code",
   "execution_count": 14,
   "id": "bc0773a3",
   "metadata": {},
   "outputs": [
    {
     "name": "stdout",
     "output_type": "stream",
     "text": [
      "1  \n",
      "2  4  \n",
      "3  6  9  \n",
      "4  8  12  16  \n",
      "5  10  15  20  25  \n",
      "6  12  18  24  30  36  \n",
      "7  14  21  28  35  42  49  \n",
      "8  16  24  32  40  48  56  64  \n"
     ]
    }
   ],
   "source": [
    "rows = 8\n",
    "# rows = int(input(\"Enter the number of rows \"))\n",
    "for i in range(1, rows + 1):\n",
    "    for j in range(1, i + 1):\n",
    "        # multiplication current column and row\n",
    "        square = i * j\n",
    "        print(i * j, end='  ')\n",
    "    print()"
   ]
  },
  {
   "cell_type": "markdown",
   "id": "c17ceb75",
   "metadata": {},
   "source": [
    "## Pyramid pattern of stars in python"
   ]
  },
  {
   "cell_type": "markdown",
   "id": "4fb36114",
   "metadata": {},
   "source": [
    "## Simple half pyramid pattern: –"
   ]
  },
  {
   "cell_type": "code",
   "execution_count": 15,
   "id": "32d35e66",
   "metadata": {},
   "outputs": [
    {
     "name": "stdout",
     "output_type": "stream",
     "text": [
      "* \r\n",
      "* * \r\n",
      "* * * \r\n",
      "* * * * \r\n",
      "* * * * * \r\n"
     ]
    }
   ],
   "source": [
    "# number of rows\n",
    "rows = 5\n",
    "for i in range(0, rows):\n",
    "    # nested loop for each column\n",
    "    for j in range(0, i + 1):\n",
    "        # print star\n",
    "        print(\"*\", end=' ')\n",
    "    # new line after each row\n",
    "    print(\"\\r\")"
   ]
  },
  {
   "cell_type": "markdown",
   "id": "929bfe5d",
   "metadata": {},
   "source": [
    "## Right triangle pyramid of Stars"
   ]
  },
  {
   "cell_type": "code",
   "execution_count": 16,
   "id": "4c048cc4",
   "metadata": {},
   "outputs": [
    {
     "name": "stdout",
     "output_type": "stream",
     "text": [
      "        * \n",
      "      * * \n",
      "    * * * \n",
      "  * * * * \n",
      "* * * * * \n"
     ]
    }
   ],
   "source": [
    "# number of rows\n",
    "rows = 5\n",
    "k = 2 * rows - 2\n",
    "for i in range(0, rows):\n",
    "    # process each column\n",
    "    for j in range(0, k):\n",
    "        # print space in pyramid\n",
    "        print(end=\" \")\n",
    "    k = k - 2\n",
    "    for j in range(0, i + 1):\n",
    "        # display star\n",
    "        print(\"* \", end=\"\")\n",
    "    print(\"\")"
   ]
  },
  {
   "cell_type": "markdown",
   "id": "494b7abc",
   "metadata": {},
   "source": [
    "### Alternative Solution:"
   ]
  },
  {
   "cell_type": "code",
   "execution_count": 17,
   "id": "1abe67ad",
   "metadata": {},
   "outputs": [
    {
     "name": "stdout",
     "output_type": "stream",
     "text": [
      "* \n",
      "* * \n",
      "* * * \n",
      "* * * * \n",
      "* * * * * \n"
     ]
    }
   ],
   "source": [
    "rows = 5\n",
    "for j in range(1, rows+1):\n",
    "    print(\"* \" * j)"
   ]
  },
  {
   "cell_type": "markdown",
   "id": "0311ffc0",
   "metadata": {},
   "source": [
    "## Downward half-Pyramid Pattern of Star"
   ]
  },
  {
   "cell_type": "code",
   "execution_count": 18,
   "id": "14a8ee67",
   "metadata": {},
   "outputs": [
    {
     "name": "stdout",
     "output_type": "stream",
     "text": [
      "* * * * *  \n",
      "* * * *  \n",
      "* * *  \n",
      "* *  \n",
      "*  \n",
      " \n"
     ]
    }
   ],
   "source": [
    "rows = 5\n",
    "for i in range(rows + 1, 0, -1):\n",
    "    # nested reverse loop\n",
    "    for j in range(0, i - 1):\n",
    "        # display star\n",
    "        print(\"*\", end=' ')\n",
    "    print(\" \")"
   ]
  },
  {
   "cell_type": "markdown",
   "id": "f610cc67",
   "metadata": {},
   "source": [
    "## Downward full Pyramid Pattern of star"
   ]
  },
  {
   "cell_type": "code",
   "execution_count": 19,
   "id": "2490ae38",
   "metadata": {},
   "outputs": [
    {
     "name": "stdout",
     "output_type": "stream",
     "text": [
      "        * * * * * * \n",
      "         * * * * * \n",
      "          * * * * \n",
      "           * * * \n",
      "            * * \n",
      "             * \n"
     ]
    }
   ],
   "source": [
    "rows = 5\n",
    "k = 2 * rows - 2\n",
    "for i in range(rows, -1, -1):\n",
    "    for j in range(k, 0, -1):\n",
    "        print(end=\" \")\n",
    "    k = k + 1\n",
    "    for j in range(0, i + 1):\n",
    "        print(\"*\", end=\" \")\n",
    "    print(\"\")"
   ]
  },
  {
   "cell_type": "markdown",
   "id": "4112d9f0",
   "metadata": {},
   "source": [
    "## Right down mirror star Pattern"
   ]
  },
  {
   "cell_type": "code",
   "execution_count": 20,
   "id": "9b0fa02d",
   "metadata": {},
   "outputs": [
    {
     "name": "stdout",
     "output_type": "stream",
     "text": [
      "* * * * * \n",
      "  * * * * \n",
      "    * * * \n",
      "      * * \n",
      "        * \n"
     ]
    }
   ],
   "source": [
    "rows = 5\n",
    "i = rows\n",
    "while i >= 1:\n",
    "    j = rows\n",
    "    while j > i:\n",
    "        # display space\n",
    "        print(' ', end=' ')\n",
    "        j -= 1\n",
    "    k = 1\n",
    "    while k <= i:\n",
    "        print('*', end=' ')\n",
    "        k += 1\n",
    "    print()\n",
    "    i -= 1"
   ]
  },
  {
   "cell_type": "markdown",
   "id": "9aa6c2ad",
   "metadata": {},
   "source": [
    "## Equilateral triangle pattern of star"
   ]
  },
  {
   "cell_type": "code",
   "execution_count": 21,
   "id": "224e38c6",
   "metadata": {},
   "outputs": [
    {
     "name": "stdout",
     "output_type": "stream",
     "text": [
      "            *   \n",
      "           *  *   \n",
      "          *  *  *   \n",
      "         *  *  *  *   \n",
      "        *  *  *  *  *   \n",
      "       *  *  *  *  *  *   \n",
      "      *  *  *  *  *  *  *   \n"
     ]
    }
   ],
   "source": [
    "size = 7\n",
    "m = (2 * size) - 2\n",
    "for i in range(0, size):\n",
    "    for j in range(0, m):\n",
    "        print(end=\" \")\n",
    "    # decrementing m after each loop\n",
    "    m = m - 1\n",
    "    for j in range(0, i + 1):\n",
    "        print(\"* \", end=' ')\n",
    "    print(\" \")"
   ]
  },
  {
   "cell_type": "markdown",
   "id": "0e99ce74",
   "metadata": {},
   "source": [
    "## Print two pyramids of stars"
   ]
  },
  {
   "cell_type": "code",
   "execution_count": 22,
   "id": "fed3a5a3",
   "metadata": {},
   "outputs": [
    {
     "name": "stdout",
     "output_type": "stream",
     "text": [
      "*  \n",
      "* *  \n",
      "* * *  \n",
      "* * * *  \n",
      "* * * * *  \n",
      "* * * * * *  \n",
      " \n",
      "* * * * * *  \n",
      "* * * * *  \n",
      "* * * *  \n",
      "* * *  \n",
      "* *  \n",
      "*  \n",
      " \n"
     ]
    }
   ],
   "source": [
    "rows = 6\n",
    "for i in range(0, rows):\n",
    "    for j in range(0, i + 1):\n",
    "        print(\"*\", end=' ')\n",
    "    print(\" \")\n",
    "\n",
    "print(\" \")\n",
    "\n",
    "for i in range(rows + 1, 0, -1):\n",
    "    for j in range(0, i - 1):\n",
    "        print(\"*\", end=' ')\n",
    "    print(\" \")"
   ]
  },
  {
   "cell_type": "markdown",
   "id": "87c2c3a6",
   "metadata": {},
   "source": [
    "## Right start pattern of star"
   ]
  },
  {
   "cell_type": "code",
   "execution_count": 23,
   "id": "634495f8",
   "metadata": {},
   "outputs": [
    {
     "name": "stdout",
     "output_type": "stream",
     "text": [
      "* \r\n",
      "* * \r\n",
      "* * * \r\n",
      "* * * * \r\n",
      "* * * * * \r\n",
      "* * * * \r\n",
      "* * * \r\n",
      "* * \r\n",
      "* \r\n",
      "\r\n"
     ]
    }
   ],
   "source": [
    "rows = 5\n",
    "for i in range(0, rows):\n",
    "    for j in range(0, i + 1):\n",
    "        print(\"*\", end=' ')\n",
    "    print(\"\\r\")\n",
    "\n",
    "for i in range(rows, 0, -1):\n",
    "    for j in range(0, i - 1):\n",
    "        print(\"*\", end=' ')\n",
    "    print(\"\\r\")"
   ]
  },
  {
   "cell_type": "markdown",
   "id": "0db2bede",
   "metadata": {},
   "source": [
    "## Left triangle pascal’s pattern"
   ]
  },
  {
   "cell_type": "code",
   "execution_count": 24,
   "id": "057157c3",
   "metadata": {},
   "outputs": [
    {
     "name": "stdout",
     "output_type": "stream",
     "text": [
      "        * \n",
      "      * * \n",
      "    * * * \n",
      "  * * * * \n",
      "* * * * * \n",
      "  * * * * \n",
      "    * * * \n",
      "      * * \n",
      "        * \n",
      "          \n"
     ]
    }
   ],
   "source": [
    "rows = 5\n",
    "i = 1\n",
    "while i <= rows:\n",
    "    j = i\n",
    "    while j < rows:\n",
    "        # display space\n",
    "        print(' ', end=' ')\n",
    "        j += 1\n",
    "    k = 1\n",
    "    while k <= i:\n",
    "        print('*', end=' ')\n",
    "        k += 1\n",
    "    print()\n",
    "    i += 1\n",
    "\n",
    "i = rows\n",
    "while i >= 1:\n",
    "    j = i\n",
    "    while j <= rows:\n",
    "        print(' ', end=' ')\n",
    "        j += 1\n",
    "    k = 1\n",
    "    while k < i:\n",
    "        print('*', end=' ')\n",
    "        k += 1\n",
    "    print('')\n",
    "    i -= 1"
   ]
  },
  {
   "cell_type": "markdown",
   "id": "9c858a95",
   "metadata": {},
   "source": [
    "## Sandglass pattern of star"
   ]
  },
  {
   "cell_type": "code",
   "execution_count": 25,
   "id": "01e1d503",
   "metadata": {},
   "outputs": [
    {
     "name": "stdout",
     "output_type": "stream",
     "text": [
      "* * * * * \n",
      " * * * * \n",
      "  * * * \n",
      "   * * \n",
      "    * \n",
      "    * \n",
      "   * * \n",
      "  * * * \n",
      " * * * * \n",
      "* * * * * \n"
     ]
    }
   ],
   "source": [
    "rows = 5\n",
    "i = 0\n",
    "while i <= rows - 1:\n",
    "    j = 0\n",
    "    while j < i:\n",
    "        # display space\n",
    "        print('', end=' ')\n",
    "        j += 1\n",
    "    k = i\n",
    "    while k <= rows - 1:\n",
    "        print('*', end=' ')\n",
    "        k += 1\n",
    "    print()\n",
    "    i += 1\n",
    "\n",
    "i = rows - 1\n",
    "while i >= 0:\n",
    "    j = 0\n",
    "    while j < i:\n",
    "        print('', end=' ')\n",
    "        j += 1\n",
    "    k = i\n",
    "    while k <= rows - 1:\n",
    "        print('*', end=' ')\n",
    "        k += 1\n",
    "    print('')\n",
    "    i -= 1"
   ]
  },
  {
   "cell_type": "markdown",
   "id": "e5a44aa3",
   "metadata": {},
   "source": [
    "## Pant style pattern of stars"
   ]
  },
  {
   "cell_type": "code",
   "execution_count": 26,
   "id": "82e26cc0",
   "metadata": {},
   "outputs": [
    {
     "name": "stdout",
     "output_type": "stream",
     "text": [
      "**************\n",
      "******__******\n",
      "*****____*****\n",
      "****______****\n",
      "***________***\n",
      "**__________**\n",
      "*____________*\n"
     ]
    }
   ],
   "source": [
    "rows = 14\n",
    "print(\"*\" * rows, end=\"\\n\")\n",
    "i = (rows // 2) - 1\n",
    "j = 2\n",
    "while i != 0:\n",
    "    while j <= (rows - 2):\n",
    "        print(\"*\" * i, end=\"\")\n",
    "        print(\"_\" * j, end=\"\")\n",
    "        print(\"*\" * i, end=\"\\n\")\n",
    "        i = i - 1\n",
    "        j = j + 2"
   ]
  },
  {
   "cell_type": "markdown",
   "id": "d6f627cb",
   "metadata": {},
   "source": [
    "## Diamond-shaped pattern of stars"
   ]
  },
  {
   "cell_type": "code",
   "execution_count": 27,
   "id": "9139f15f",
   "metadata": {},
   "outputs": [
    {
     "name": "stdout",
     "output_type": "stream",
     "text": [
      "        * \n",
      "       * * \n",
      "      * * * \n",
      "     * * * * \n",
      "    * * * * * \n",
      "   * * * * * * \n",
      "    * * * * * \n",
      "     * * * * \n",
      "      * * * \n",
      "       * * \n",
      "        * \n"
     ]
    }
   ],
   "source": [
    "rows = 5\n",
    "k = 2 * rows - 2\n",
    "for i in range(0, rows):\n",
    "    for j in range(0, k):\n",
    "        print(end=\" \")\n",
    "    k = k - 1\n",
    "    for j in range(0, i + 1):\n",
    "        print(\"* \", end=\"\")\n",
    "    print(\"\")\n",
    "    \n",
    "k = rows - 2\n",
    "\n",
    "for i in range(rows, -1, -1):\n",
    "    for j in range(k, 0, -1):\n",
    "        print(end=\" \")\n",
    "    k = k + 1\n",
    "    for j in range(0, i + 1):\n",
    "        print(\"* \", end=\"\")\n",
    "    print(\"\")"
   ]
  },
  {
   "cell_type": "markdown",
   "id": "24038ba4",
   "metadata": {},
   "source": [
    "## Another diamond pattern of star"
   ]
  },
  {
   "cell_type": "code",
   "execution_count": 28,
   "id": "3b3da3b7",
   "metadata": {},
   "outputs": [
    {
     "name": "stdout",
     "output_type": "stream",
     "text": [
      "        * \n",
      "      *   *\n",
      "    *       *\n",
      "  *           *\n",
      "*               *\n",
      "  *             *\n",
      "    *         *\n",
      "      *     *\n",
      "        * \n"
     ]
    }
   ],
   "source": [
    "rows = 5\n",
    "i = 1\n",
    "while i <= rows:\n",
    "    j = rows\n",
    "    while j > i:\n",
    "        # display space\n",
    "        print(' ', end=' ')\n",
    "        j -= 1\n",
    "    print('*', end=' ')\n",
    "    k = 1\n",
    "    while k < 2 * (i - 1):\n",
    "        print(' ', end=' ')\n",
    "        k += 1\n",
    "    if i == 1:\n",
    "        print()\n",
    "    else:\n",
    "        print('*')\n",
    "    i += 1\n",
    "\n",
    "i = rows - 1\n",
    "while i >= 1:\n",
    "    j = rows\n",
    "    while j > i:\n",
    "        print(' ', end=' ')\n",
    "        j -= 1\n",
    "    print('*', end=' ')\n",
    "    k = 1\n",
    "    while k <= 2 * (i - 1):\n",
    "        print(' ', end=' ')\n",
    "        k += 1\n",
    "    if i == 1:\n",
    "        print()\n",
    "    else:\n",
    "        print('*')\n",
    "    i -= 1"
   ]
  },
  {
   "cell_type": "markdown",
   "id": "49c8e6ce",
   "metadata": {},
   "source": [
    "## Alphabets and letters pattern"
   ]
  },
  {
   "cell_type": "code",
   "execution_count": 29,
   "id": "540486ee",
   "metadata": {},
   "outputs": [
    {
     "name": "stdout",
     "output_type": "stream",
     "text": [
      "A  \n",
      "B C  \n",
      "D E F  \n",
      "G H I J  \n",
      "K L M N O  \n",
      "P Q R S T U  \n",
      "V W X Y Z [ \\  \n"
     ]
    }
   ],
   "source": [
    "# ASCII number of 'A'\n",
    "ascii_number = 65\n",
    "rows = 7\n",
    "for i in range(0, rows):\n",
    "    for j in range(0, i + 1):\n",
    "        character = chr(ascii_number)\n",
    "        print(character, end=' ')\n",
    "        ascii_number += 1\n",
    "    print(\" \")"
   ]
  },
  {
   "cell_type": "markdown",
   "id": "76cb964f",
   "metadata": {},
   "source": [
    "## Pattern to display letter of the word"
   ]
  },
  {
   "cell_type": "code",
   "execution_count": 30,
   "id": "bad46527",
   "metadata": {},
   "outputs": [
    {
     "name": "stdout",
     "output_type": "stream",
     "text": [
      "P\n",
      "Py\n",
      "Pyt\n",
      "Pyth\n",
      "Pytho\n",
      "Python\n"
     ]
    }
   ],
   "source": [
    "word = \"Python\"\n",
    "x = \"\"\n",
    "for i in word:\n",
    "    x += i\n",
    "    print(x)"
   ]
  },
  {
   "cell_type": "markdown",
   "id": "41ec6fda",
   "metadata": {},
   "source": [
    "## Equilateral triangle pattern of characters/alphabets"
   ]
  },
  {
   "cell_type": "code",
   "execution_count": 31,
   "id": "41e24d75",
   "metadata": {},
   "outputs": [
    {
     "name": "stdout",
     "output_type": "stream",
     "text": [
      "            A  \n",
      "           B C  \n",
      "          D E F  \n",
      "         G H I J  \n",
      "        K L M N O  \n",
      "       P Q R S T U  \n",
      "      V W X Y Z [ \\  \n"
     ]
    }
   ],
   "source": [
    "size = 7\n",
    "asciiNumber = 65\n",
    "m = (2 * size) - 2\n",
    "for i in range(0, size):\n",
    "    for j in range(0, m):\n",
    "        print(end=\" \")\n",
    "    m = m - 1\n",
    "    for j in range(0, i + 1):\n",
    "        character = chr(asciiNumber)\n",
    "        print(character, end=' ')\n",
    "        asciiNumber += 1\n",
    "    print(\" \")"
   ]
  },
  {
   "cell_type": "markdown",
   "id": "f9d700c1",
   "metadata": {},
   "source": [
    "## Pattern of same character"
   ]
  },
  {
   "cell_type": "code",
   "execution_count": 32,
   "id": "e9b4a2e6",
   "metadata": {},
   "outputs": [
    {
     "name": "stdout",
     "output_type": "stream",
     "text": [
      "V \n",
      "V V \n",
      "V V V \n",
      "V V V V \n",
      "V V V V V \n"
     ]
    }
   ],
   "source": [
    "# Same character pattern\n",
    "character = 'V'\n",
    "# convert char to ASCII\n",
    "char_ascii_no = ord(character)\n",
    "for i in range(0, 5):\n",
    "    for j in range(0, i + 1):\n",
    "        # Convert the ASCII value to the character\n",
    "        user_char = chr(char_ascii_no)\n",
    "        print(user_char, end=' ')\n",
    "    print()"
   ]
  },
  {
   "cell_type": "markdown",
   "id": "f76ae3b1",
   "metadata": {},
   "source": [
    "## More miscellaneous Patterns"
   ]
  },
  {
   "cell_type": "markdown",
   "id": "87e3841e",
   "metadata": {},
   "source": [
    "## Pyramid of horizontal number tables"
   ]
  },
  {
   "cell_type": "code",
   "execution_count": 33,
   "id": "b6cb2043",
   "metadata": {},
   "outputs": [
    {
     "name": "stdout",
     "output_type": "stream",
     "text": [
      "1 \n",
      "2 4 \n",
      "3 6 9 \n",
      "4 8 12 16 \n",
      "5 10 15 20 25 \n",
      "6 12 18 24 30 36 \n",
      "7 14 21 28 35 42 49 \n",
      "8 16 24 32 40 48 56 64 \n",
      "9 18 27 36 45 54 63 72 81 \n",
      "10 20 30 40 50 60 70 80 90 100 \n"
     ]
    }
   ],
   "source": [
    "# Pyramid of horizontal tables of numbers\n",
    "rows = 10\n",
    "for i in range(1, rows + 1):\n",
    "    for j in range(1, i + 1):\n",
    "        print(i * j, end=' ')\n",
    "    print()"
   ]
  },
  {
   "cell_type": "markdown",
   "id": "e38a0cb6",
   "metadata": {},
   "source": [
    "## Double the number pattern"
   ]
  },
  {
   "cell_type": "code",
   "execution_count": 34,
   "id": "93af3c65",
   "metadata": {},
   "outputs": [
    {
     "name": "stdout",
     "output_type": "stream",
     "text": [
      "   1 \n",
      "   2    1 \n",
      "   4    2    1 \n",
      "   8    4    2    1 \n",
      "  16    8    4    2    1 \n",
      "  32   16    8    4    2    1 \n",
      "  64   32   16    8    4    2    1 \n",
      " 128   64   32   16    8    4    2    1 \n"
     ]
    }
   ],
   "source": [
    "rows = 9\n",
    "for i in range(1, rows):\n",
    "    for j in range(-1 + i, -1, -1):\n",
    "        print(format(2 ** j, \"4d\"), end=' ')\n",
    "    print(\"\")"
   ]
  },
  {
   "cell_type": "markdown",
   "id": "4bf71555",
   "metadata": {},
   "source": [
    "## Random number pattern"
   ]
  },
  {
   "cell_type": "code",
   "execution_count": 35,
   "id": "115725bb",
   "metadata": {},
   "outputs": [
    {
     "name": "stdout",
     "output_type": "stream",
     "text": [
      "   1 \n",
      "   1    2    1 \n",
      "   1    2    4    2    1 \n",
      "   1    2    4    8    4    2    1 \n",
      "   1    2    4    8   16    8    4    2    1 \n",
      "   1    2    4    8   16   32   16    8    4    2    1 \n",
      "   1    2    4    8   16   32   64   32   16    8    4    2    1 \n",
      "   1    2    4    8   16   32   64  128   64   32   16    8    4    2    1 \n"
     ]
    }
   ],
   "source": [
    "rows = 9\n",
    "for i in range(1, rows):\n",
    "    for i in range(0, i, 1):\n",
    "        print(format(2 ** i, \"4d\"), end=' ')\n",
    "    for i in range(-1 + i, -1, -1):\n",
    "        print(format(2 ** i, \"4d\"), end=' ')\n",
    "    print(\"\")"
   ]
  },
  {
   "cell_type": "markdown",
   "id": "b7c650f5",
   "metadata": {},
   "source": [
    "## Pyramid of numbers less than 10"
   ]
  },
  {
   "cell_type": "code",
   "execution_count": 36,
   "id": "26972791",
   "metadata": {},
   "outputs": [
    {
     "name": "stdout",
     "output_type": "stream",
     "text": [
      "1 \n",
      "2 3 4 \n",
      "5 6 7 8 9 \n"
     ]
    }
   ],
   "source": [
    "current_num = 1\n",
    "stop = 2\n",
    "rows = 3\n",
    "\n",
    "for i in range(rows):\n",
    "    for column in range(1, stop):\n",
    "        print(current_num, end=' ')\n",
    "        current_num += 1\n",
    "    print(\"\")\n",
    "    stop += 2"
   ]
  },
  {
   "cell_type": "markdown",
   "id": "1f4ee18f",
   "metadata": {},
   "source": [
    "## Pyramid of numbers up to 10"
   ]
  },
  {
   "cell_type": "code",
   "execution_count": 37,
   "id": "b5210705",
   "metadata": {},
   "outputs": [
    {
     "name": "stdout",
     "output_type": "stream",
     "text": [
      "1 \n",
      "2 3 \n",
      "4 5 6 \n",
      "7 8 9 10 \n"
     ]
    }
   ],
   "source": [
    "current_num = 1\n",
    "rows = 4\n",
    "stop = 2\n",
    "for i in range(rows):\n",
    "    for column in range(1, stop):\n",
    "        print(current_num, end=' ')\n",
    "        current_num += 1\n",
    "    print(\"\")\n",
    "    stop += 1"
   ]
  },
  {
   "cell_type": "markdown",
   "id": "6b4f1f3b",
   "metadata": {},
   "source": [
    "## Even number pattern"
   ]
  },
  {
   "cell_type": "code",
   "execution_count": 38,
   "id": "5a328286",
   "metadata": {},
   "outputs": [
    {
     "name": "stdout",
     "output_type": "stream",
     "text": [
      "10 \n",
      "10 8 \n",
      "10 8 6 \n",
      "10 8 6 4 \n",
      "10 8 6 4 2 \n"
     ]
    }
   ],
   "source": [
    "rows = 5\n",
    "last_num = 2 * rows\n",
    "even_num = last_num\n",
    "for i in range(1, rows + 1):\n",
    "    even_num = last_num\n",
    "    for j in range(i):\n",
    "        print(even_num, end=' ')\n",
    "        even_num -= 2\n",
    "    print(\"\\r\")"
   ]
  },
  {
   "cell_type": "markdown",
   "id": "32927c45",
   "metadata": {},
   "source": [
    "## Unique pyramid pattern of digits"
   ]
  },
  {
   "cell_type": "code",
   "execution_count": 39,
   "id": "bd2f5af9",
   "metadata": {},
   "outputs": [
    {
     "name": "stdout",
     "output_type": "stream",
     "text": [
      "\n",
      "1 \n",
      "1 2 1 \n",
      "1 2 3 2 1 \n",
      "1 2 3 4 3 2 1 \n",
      "1 2 3 4 5 4 3 2 1 \n"
     ]
    }
   ],
   "source": [
    "rows = 6\n",
    "for i in range(1, rows + 1):\n",
    "    for j in range(1, i - 1):\n",
    "        print(j, end=\" \")\n",
    "    for j in range(i - 1, 0, -1):\n",
    "        print(j, end=\" \")\n",
    "    print()"
   ]
  },
  {
   "cell_type": "markdown",
   "id": "19ad3672",
   "metadata": {},
   "source": [
    "## Pattern double number on each column"
   ]
  },
  {
   "cell_type": "code",
   "execution_count": 40,
   "id": "6e4cd733",
   "metadata": {},
   "outputs": [
    {
     "name": "stdout",
     "output_type": "stream",
     "text": [
      "0  \n",
      "0  1  \n",
      "0  2  4  \n",
      "0  3  6  9  \n",
      "0  4  8  12  16  \n",
      "0  5  10  15  20  25  \n",
      "0  6  12  18  24  30  36  \n"
     ]
    }
   ],
   "source": [
    "rows = 7\n",
    "for i in range(0, rows):\n",
    "    for j in range(0, i + 1):\n",
    "        print(i * j, end='  ')\n",
    "    print()"
   ]
  },
  {
   "cell_type": "markdown",
   "id": "11cb5d9f",
   "metadata": {},
   "source": [
    "## Number reduction pattern"
   ]
  },
  {
   "cell_type": "code",
   "execution_count": 41,
   "id": "066adf16",
   "metadata": {},
   "outputs": [
    {
     "name": "stdout",
     "output_type": "stream",
     "text": [
      "1 2 3 4 5 \n",
      "2 3 4 5 \n",
      "3 4 5 \n",
      "4 5 \n",
      "5 \n",
      "\n"
     ]
    }
   ],
   "source": [
    "rows = 5\n",
    "for i in range(0, rows + 1, 1):\n",
    "    for j in range(i + 1, rows + 1, 1):\n",
    "        print(j, end=' ')\n",
    "    print()"
   ]
  },
  {
   "cell_type": "markdown",
   "id": "c5cd6b77",
   "metadata": {},
   "source": [
    "## Pant style pattern of numbers"
   ]
  },
  {
   "cell_type": "code",
   "execution_count": 42,
   "id": "54e2d568",
   "metadata": {},
   "outputs": [
    {
     "name": "stdout",
     "output_type": "stream",
     "text": [
      "5 4 3 2 1 1 2 3 4 5 \n",
      "\n",
      "5 4 3 2     2 3 4 5 \n",
      "\n",
      "5 4 3         3 4 5 \n",
      "\n",
      "5 4             4 5 \n",
      "\n",
      "5                 5 \n",
      "\n",
      "                    \n",
      "\n"
     ]
    }
   ],
   "source": [
    "rows = 6\n",
    "for i in range(0, rows):\n",
    "    for j in range(rows - 1, i, -1):\n",
    "        print(j, '', end='')\n",
    "    for l in range(i):\n",
    "        print('    ', end='')\n",
    "    for k in range(i + 1, rows):\n",
    "        print(k, '', end='')\n",
    "    print('\\n')"
   ]
  },
  {
   "cell_type": "markdown",
   "id": "fb366300",
   "metadata": {},
   "source": [
    "## Pattern with a combination of numbers and stars"
   ]
  },
  {
   "cell_type": "code",
   "execution_count": 43,
   "id": "40a7d203",
   "metadata": {},
   "outputs": [
    {
     "name": "stdout",
     "output_type": "stream",
     "text": [
      "1 * 2 * 3 * 4 \n",
      "\n",
      "1 * 2 * 3 \n",
      "\n",
      "1 * 2 \n",
      "\n",
      "1 \n",
      "\n"
     ]
    }
   ],
   "source": [
    "row = 4\n",
    "for i in range(0, row):\n",
    "    c = 1\n",
    "    print(c, end=' ')\n",
    "    for j in range(row - i - 1, 0, -1):\n",
    "        print('*', end=' ')\n",
    "        c = c + 1\n",
    "        print(c, end=' ')\n",
    "    print('\\n')"
   ]
  },
  {
   "cell_type": "markdown",
   "id": "a04f8eab",
   "metadata": {},
   "source": [
    "## Frame pattern"
   ]
  },
  {
   "cell_type": "code",
   "execution_count": 44,
   "id": "36a13ebc",
   "metadata": {},
   "outputs": [
    {
     "name": "stdout",
     "output_type": "stream",
     "text": [
      "*****\n",
      "*   *\n",
      "*   *\n",
      "*   *\n",
      "*****\n"
     ]
    }
   ],
   "source": [
    "rows = 5             # int(input(\"Enter row length: \"))\n",
    "for i in range(rows):\n",
    "    for j in range(rows):\n",
    "        if i == 0 or i == rows - 1 or j == 0 or j == rows - 1:\n",
    "            print(\"*\", end='')\n",
    "        else:\n",
    "            print(\" \", end='')\n",
    "    print()"
   ]
  },
  {
   "cell_type": "code",
   "execution_count": null,
   "id": "ec7d16e6",
   "metadata": {},
   "outputs": [],
   "source": []
  }
 ],
 "metadata": {
  "kernelspec": {
   "display_name": "Python 3 (ipykernel)",
   "language": "python",
   "name": "python3"
  },
  "language_info": {
   "codemirror_mode": {
    "name": "ipython",
    "version": 3
   },
   "file_extension": ".py",
   "mimetype": "text/x-python",
   "name": "python",
   "nbconvert_exporter": "python",
   "pygments_lexer": "ipython3",
   "version": "3.9.12"
  }
 },
 "nbformat": 4,
 "nbformat_minor": 5
}
